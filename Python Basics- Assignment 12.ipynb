{
 "cells": [
  {
   "cell_type": "markdown",
   "id": "120c51f3",
   "metadata": {},
   "source": [
    "# Question1\n",
    "The file will open in binary mode. Read binary (rb) for PdfFileReader() and write binary (wb) for PdfFileWriter()."
   ]
  },
  {
   "cell_type": "markdown",
   "id": "6c414289",
   "metadata": {},
   "source": [
    "# Question2\n",
    "By using getPage(4) we will get the 5th page as 0 is considered as the first page\n",
    "     "
   ]
  },
  {
   "cell_type": "code",
   "execution_count": null,
   "id": "63b57c79",
   "metadata": {},
   "outputs": [],
   "source": [
    "#Question2\n",
    "import PyPDF2 as pdf\n",
    "pdfFileObj = open(\"doc.pdf\",'rb')\n",
    "pdfReader = pdf.PdfFileReader(pdfFileObj)\n",
    "pageObj = pdfReader.getPage(4)\n",
    "pageObj.extractText()\n",
    "     "
   ]
  },
  {
   "cell_type": "code",
   "execution_count": null,
   "id": "10d1bd53",
   "metadata": {},
   "outputs": [],
   "source": [
    "# Question3\n",
    "import PyPDF2 as pdf\n",
    "pdfFileObj = open(\"doc.pdf\",'rb')\n",
    "pdfReader = pdf.PdfFileReader(pdfFileObj)\n",
    "pdfReader.numPages"
   ]
  },
  {
   "cell_type": "markdown",
   "id": "f483b162",
   "metadata": {},
   "source": [
    "# Question4\n",
    "Before obtaining the page object,the pdf needs to be decrypted using .decrypt('swordfish')"
   ]
  },
  {
   "cell_type": "markdown",
   "id": "125a5ec9",
   "metadata": {},
   "source": [
    "# Question5\n",
    "The rotateClockwise() and rotateCounterClockwise() methods rotates the page clockwise and counterclockwise respectively and the degree of rotation is entered as an integer argument. "
   ]
  },
  {
   "cell_type": "markdown",
   "id": "eceb4435",
   "metadata": {},
   "source": [
    "# Question6\n",
    "In a paragraph object the document contains multiple paragraphs and each paragraph begins on a new line and contains multiple runs. The document object contains a list of paragraph objects for the paragraphs in the document. \n",
    "\n",
    "In run objects, runs are continuous groups of characters in a paragraph with the same style."
   ]
  },
  {
   "cell_type": "markdown",
   "id": "e55058f6",
   "metadata": {},
   "source": [
    "# Question7\n",
    "import docx\n",
    "\n",
    "docs = docx.Document('document.docx')\n",
    "\n",
    "docs.paragraphs"
   ]
  },
  {
   "cell_type": "markdown",
   "id": "668aaf53",
   "metadata": {},
   "source": [
    "# Question8\n",
    "A run object has bold, underline, italic, strike, and outline variables."
   ]
  },
  {
   "cell_type": "markdown",
   "id": "9209b369",
   "metadata": {},
   "source": [
    "# Question9\n",
    "True (always enabled regardless of what other styles are applied to the run) \n",
    "\n",
    "False (always disabled)\n",
    "\n",
    "None (defaults to whatever the run style is set up to)"
   ]
  },
  {
   "cell_type": "markdown",
   "id": "f5883a79",
   "metadata": {},
   "source": [
    "# Question10\n",
    "We can create a document object for a new word document by Calling the docx.Document() function."
   ]
  },
  {
   "cell_type": "code",
   "execution_count": null,
   "id": "6137a3b4",
   "metadata": {},
   "outputs": [],
   "source": [
    "# Question11\n",
    "import docx\n",
    "doc = docx.Document()\n",
    "doc.add_paragraph('Hello there!')\n",
    "doc.save('hellothere.docx')"
   ]
  },
  {
   "cell_type": "markdown",
   "id": "32a7891b",
   "metadata": {},
   "source": [
    "# Question12\n",
    "The integers from 0 to 4 represent levels of headings in word documents. \n",
    "The integer 0 makes the heading the title style and integers 1 to 4 are for various heading levels with 1 being the main heading and 4 the lowest subheading."
   ]
  },
  {
   "cell_type": "code",
   "execution_count": null,
   "id": "26e950d5",
   "metadata": {},
   "outputs": [],
   "source": []
  }
 ],
 "metadata": {
  "kernelspec": {
   "display_name": "Python 3 (ipykernel)",
   "language": "python",
   "name": "python3"
  },
  "language_info": {
   "codemirror_mode": {
    "name": "ipython",
    "version": 3
   },
   "file_extension": ".py",
   "mimetype": "text/x-python",
   "name": "python",
   "nbconvert_exporter": "python",
   "pygments_lexer": "ipython3",
   "version": "3.9.13"
  }
 },
 "nbformat": 4,
 "nbformat_minor": 5
}
