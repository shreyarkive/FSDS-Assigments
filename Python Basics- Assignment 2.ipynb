{
 "cells": [
  {
   "cell_type": "markdown",
   "id": "f7f8964c",
   "metadata": {},
   "source": [
    "# Question 1\n",
    "The two values of boolean data type are True and False. In Python we write them as 'True' and 'False'. "
   ]
  },
  {
   "cell_type": "markdown",
   "id": "d85d9366",
   "metadata": {},
   "source": [
    "# Question 2\n",
    "The three different types of boolean operators are:\n",
    "1) and: It is used when two given conditions are to be satisfied.\n",
    "2) or: It is used when only one of the condition is to be satisfied.\n",
    "3) not: It is used when none of the given conditions are to be satisfied."
   ]
  },
  {
   "cell_type": "markdown",
   "id": "e8a07d92",
   "metadata": {},
   "source": [
    "# Question 3 \n",
    "For and operator,\n",
    "False and False gives False.\n",
    "True and False gives False.\n",
    "False and True gives False.\n",
    "True and True gives True.\n",
    "\n",
    "For or operator, \n",
    "False or False gives False.\n",
    "True or False gives True.\n",
    "False or True gives True.\n",
    "True or True gives True.\n",
    "\n",
    "For not operator,\n",
    "not False will return True.\n",
    "not True will return False."
   ]
  },
  {
   "cell_type": "markdown",
   "id": "43989d72",
   "metadata": {},
   "source": [
    "# Question 4\n",
    "(5>4) and (3 == 5) will return False.\n",
    "not (5>4) will return False.\n",
    "(5>4) or (3 == 5) will return True.\n",
    "not ((5>4) or (3 == 5)) will return False. \n",
    "(True and True) and (True == False) will return False.\n",
    "(not False) or (not True) will return True."
   ]
  },
  {
   "cell_type": "markdown",
   "id": "5a110485",
   "metadata": {},
   "source": [
    "# Question 5\n",
    "The six comparison operators are \n",
    "1) == : equals to\n",
    "2) != : not equals to\n",
    "4) >= : greater than and equal to\n",
    "5) <= : less than and equal to\n",
    "6) <  : greater than\n",
    "7) >  : less than"
   ]
  },
  {
   "cell_type": "markdown",
   "id": "b6ce1969",
   "metadata": {},
   "source": [
    "# Question 6\n",
    "The primary difference between the equals to (=) and the assignment operator (==) is that the former is used to assign a value to a variable and the latter is used to check if two given operands on either sides of == are equal or not. \n",
    "For example,\n",
    "hundred = 100 is used to store the integer the integer value 100 in the variable hundred.\n",
    "\n",
    "if hundred == 100:\n",
    "       print('hundred')\n",
    "The above piece of code is uses the == operator to check if the value stored in variable hundred is equal to 100.      "
   ]
  },
  {
   "cell_type": "markdown",
   "id": "849356b2",
   "metadata": {},
   "source": [
    "# Question 7\n",
    "spam = 0 \n",
    "\n",
    "if spam == 10:  (block 1)\n",
    "print('eggs')\n",
    "\n",
    "if spam>5:      (block 2)\n",
    "print('bacon')\n",
    "\n",
    "else:           (block 3)\n",
    "print('ham')\n",
    "print(spam')\n",
    "print('spam')"
   ]
  },
  {
   "cell_type": "code",
   "execution_count": 3,
   "id": "d4fe59d1",
   "metadata": {},
   "outputs": [
    {
     "name": "stdout",
     "output_type": "stream",
     "text": [
      "Enter integer3\n",
      "Greetings\n"
     ]
    }
   ],
   "source": [
    "# Question 8\n",
    "spam= int(input('Enter integer'))\n",
    "if spam==1:\n",
    "    print('Hello')\n",
    "elif spam==2:\n",
    "    print('Howdy')\n",
    "else:\n",
    "    print('Greetings')"
   ]
  },
  {
   "cell_type": "markdown",
   "id": "516f24dd",
   "metadata": {},
   "source": [
    "# Question 9\n",
    "You can stop an infinte loop using the break keyword or CTRL+C."
   ]
  },
  {
   "cell_type": "markdown",
   "id": "ed481b94",
   "metadata": {},
   "source": [
    "# Question 10\n",
    "Break terminates the entire loop process while continue only termainates a particular iteration of a loop."
   ]
  },
  {
   "cell_type": "markdown",
   "id": "d2e31dd8",
   "metadata": {},
   "source": [
    "# Question 11\n",
    "The difference between range(10), range(0, 10), and range(0, 10, 1) is,\n",
    "range(10) goes from default value 0 to 10 with default jump value of 1.\n",
    "range(0,10) goes from 0 to 10 with default jump value of 1.\n",
    "range(0,10,1) goes from 0 to 10 with jumo value 1."
   ]
  },
  {
   "cell_type": "code",
   "execution_count": 4,
   "id": "9e47ff43",
   "metadata": {},
   "outputs": [
    {
     "name": "stdout",
     "output_type": "stream",
     "text": [
      "1\n",
      "2\n",
      "3\n",
      "4\n",
      "5\n",
      "6\n",
      "7\n",
      "8\n",
      "9\n",
      "10\n"
     ]
    }
   ],
   "source": [
    "# Question 12\n",
    "for i in range(0,10):\n",
    "    print(i+1)"
   ]
  },
  {
   "cell_type": "code",
   "execution_count": 6,
   "id": "45c9eef4",
   "metadata": {},
   "outputs": [
    {
     "name": "stdout",
     "output_type": "stream",
     "text": [
      "1\n",
      "2\n",
      "3\n",
      "4\n",
      "5\n",
      "6\n",
      "7\n",
      "8\n",
      "9\n",
      "10\n"
     ]
    }
   ],
   "source": [
    "#Question 12\n",
    "i=0\n",
    "while i<10:\n",
    "    print(i+1)\n",
    "    i=i+1"
   ]
  },
  {
   "cell_type": "markdown",
   "id": "c7bef1ae",
   "metadata": {},
   "source": [
    "# Question 13\n",
    "The function can be called by spam.bacon()"
   ]
  }
 ],
 "metadata": {
  "kernelspec": {
   "display_name": "Python 3 (ipykernel)",
   "language": "python",
   "name": "python3"
  },
  "language_info": {
   "codemirror_mode": {
    "name": "ipython",
    "version": 3
   },
   "file_extension": ".py",
   "mimetype": "text/x-python",
   "name": "python",
   "nbconvert_exporter": "python",
   "pygments_lexer": "ipython3",
   "version": "3.9.13"
  }
 },
 "nbformat": 4,
 "nbformat_minor": 5
}
