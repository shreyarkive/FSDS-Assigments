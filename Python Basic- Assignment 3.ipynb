{
 "cells": [
  {
   "cell_type": "markdown",
   "id": "58f3e94d",
   "metadata": {},
   "source": [
    "# Question 1\n",
    "Functions are advantageous in a program as they can be used multiple times in a prgram to perform certain operations instead of writing the portion of the code multiple times. "
   ]
  },
  {
   "cell_type": "markdown",
   "id": "1cdd2913",
   "metadata": {},
   "source": [
    "# Question 2\n",
    "The code in the function runs only when the function is called."
   ]
  },
  {
   "cell_type": "markdown",
   "id": "e7106bad",
   "metadata": {},
   "source": [
    "# Question 3\n",
    "The statement 'def functionname():' creates a function"
   ]
  },
  {
   "cell_type": "markdown",
   "id": "64e362f1",
   "metadata": {},
   "source": [
    "# Question 4\n",
    "A function is just a block of code which is not executed till the function is called. \n",
    "For example,\n",
    "\n",
    "A function is,\n",
    "def functionname():\n",
    "\n",
    "While a function call is,\n",
    "functionname():"
   ]
  },
  {
   "cell_type": "markdown",
   "id": "cf879704",
   "metadata": {},
   "source": [
    "# Question 5\n",
    "There is only one global and local scope in python."
   ]
  },
  {
   "cell_type": "markdown",
   "id": "5e5fa9e2",
   "metadata": {},
   "source": [
    "# Question 6\n",
    "At every function call, the variables in the local scopes expire and cannot be used outside the function when the values are returned as output of a function. "
   ]
  },
  {
   "cell_type": "markdown",
   "id": "daaea0b6",
   "metadata": {},
   "source": [
    "# Question 7\n",
    "Return returns a value produced as an output by a function when the function is called. Yes it is possible to have a return value in an expression that is in a function. An expression outside a function need not necessarily have need a return statement to print the output of the expression. "
   ]
  },
  {
   "cell_type": "markdown",
   "id": "334bda9a",
   "metadata": {},
   "source": [
    "# Question 8\n",
    "If a function does not include the return statement, the value at the function call will be None. "
   ]
  },
  {
   "cell_type": "markdown",
   "id": "cc8c4254",
   "metadata": {},
   "source": [
    "# Question 9\n",
    "We can make a function variable refer to the global variable by using the global variable.\n",
    "for example,\n",
    "a=10\n",
    "def test():\n",
    "       global a"
   ]
  },
  {
   "cell_type": "markdown",
   "id": "affbe62d",
   "metadata": {},
   "source": [
    "# Question 10\n",
    "None has a data type of its own called NoneType."
   ]
  },
  {
   "cell_type": "code",
   "execution_count": 1,
   "id": "7fcb5dbf",
   "metadata": {},
   "outputs": [
    {
     "data": {
      "text/plain": [
       "NoneType"
      ]
     },
     "execution_count": 1,
     "metadata": {},
     "output_type": "execute_result"
    }
   ],
   "source": [
    "type(None)"
   ]
  },
  {
   "cell_type": "markdown",
   "id": "117edcee",
   "metadata": {},
   "source": [
    "# Question 11\n",
    "import areallyourpetsnamederic imports the respective module into the current program."
   ]
  },
  {
   "cell_type": "markdown",
   "id": "5fe393c0",
   "metadata": {},
   "source": [
    "# Question 12\n",
    "spam.bacon()"
   ]
  },
  {
   "cell_type": "markdown",
   "id": "d02153a9",
   "metadata": {},
   "source": [
    "# Question 13\n",
    "We could use try and except statements, break statement, pass statement, or use exit() to end the code."
   ]
  },
  {
   "cell_type": "markdown",
   "id": "1ac0de1e",
   "metadata": {},
   "source": [
    "# Question 14 \n",
    "Inside the try and except statement, python processes all the code and if an error is encountered, the control is passed to the except code skipping all the code in between the try and except statements. \n",
    "Try statement tests a block of code while except handles the errors if they exist in the block of code.\n"
   ]
  },
  {
   "cell_type": "code",
   "execution_count": null,
   "id": "eedd6091",
   "metadata": {},
   "outputs": [],
   "source": []
  }
 ],
 "metadata": {
  "kernelspec": {
   "display_name": "Python 3 (ipykernel)",
   "language": "python",
   "name": "python3"
  },
  "language_info": {
   "codemirror_mode": {
    "name": "ipython",
    "version": 3
   },
   "file_extension": ".py",
   "mimetype": "text/x-python",
   "name": "python",
   "nbconvert_exporter": "python",
   "pygments_lexer": "ipython3",
   "version": "3.9.13"
  }
 },
 "nbformat": 4,
 "nbformat_minor": 5
}
