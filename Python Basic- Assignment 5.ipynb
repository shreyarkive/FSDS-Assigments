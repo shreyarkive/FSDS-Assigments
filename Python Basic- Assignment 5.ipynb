{
 "cells": [
  {
   "cell_type": "code",
   "execution_count": 1,
   "id": "d8e201f9",
   "metadata": {},
   "outputs": [],
   "source": [
    "#Question 1\n",
    "#A code for an empty dictionary looks like \n",
    "empty_dict={}"
   ]
  },
  {
   "cell_type": "code",
   "execution_count": 2,
   "id": "64c38f6d",
   "metadata": {},
   "outputs": [],
   "source": [
    "#Question 2\n",
    "val={'foo':42}"
   ]
  },
  {
   "cell_type": "markdown",
   "id": "87d6ddd5",
   "metadata": {},
   "source": [
    "# Question 3\n",
    "The main difference between a list and a dictionary would be that a list is an ordered sequence of elements while a dictionary is an unordered sequence of key and value pairs. This difference is viewed in the way we access the elemts of a list or dictionary. We can access the elements of a list using indices while we access the elements of a dictionary using keys. "
   ]
  },
  {
   "cell_type": "markdown",
   "id": "c860ef20",
   "metadata": {},
   "source": [
    "# Question 4\n",
    "We would get a KeyError."
   ]
  },
  {
   "cell_type": "code",
   "execution_count": 3,
   "id": "3ff7d434",
   "metadata": {},
   "outputs": [
    {
     "ename": "KeyError",
     "evalue": "'foo'",
     "output_type": "error",
     "traceback": [
      "\u001b[0;31m---------------------------------------------------------------------------\u001b[0m",
      "\u001b[0;31mKeyError\u001b[0m                                  Traceback (most recent call last)",
      "\u001b[0;32m/var/folders/92/f9nmcjzj5458kg3mkxyw0khm0000gn/T/ipykernel_1393/1717283131.py\u001b[0m in \u001b[0;36m<module>\u001b[0;34m\u001b[0m\n\u001b[1;32m      1\u001b[0m \u001b[0mspam\u001b[0m\u001b[0;34m=\u001b[0m\u001b[0;34m{\u001b[0m\u001b[0;34m'bar'\u001b[0m\u001b[0;34m:\u001b[0m\u001b[0;36m100\u001b[0m\u001b[0;34m}\u001b[0m\u001b[0;34m\u001b[0m\u001b[0;34m\u001b[0m\u001b[0m\n\u001b[0;32m----> 2\u001b[0;31m \u001b[0mspam\u001b[0m\u001b[0;34m[\u001b[0m\u001b[0;34m'foo'\u001b[0m\u001b[0;34m]\u001b[0m\u001b[0;34m\u001b[0m\u001b[0;34m\u001b[0m\u001b[0m\n\u001b[0m",
      "\u001b[0;31mKeyError\u001b[0m: 'foo'"
     ]
    }
   ],
   "source": [
    "spam={'bar':100}\n",
    "spam['foo']"
   ]
  },
  {
   "cell_type": "markdown",
   "id": "49d8f9b2",
   "metadata": {},
   "source": [
    "# Question 5\n",
    "There is no difference in the two expressions as both of them check if 'cat' is a key in spam. "
   ]
  },
  {
   "cell_type": "markdown",
   "id": "d93ef60d",
   "metadata": {},
   "source": [
    "# Question 6\n",
    "While 'cat'in spam checks if spam is a key in the dictionary, 'cat' in spam.values() checks if 'cat' is a value to a key in the dictionary. "
   ]
  },
  {
   "cell_type": "markdown",
   "id": "e4266600",
   "metadata": {},
   "source": [
    "# Question 7\n",
    "spam.setdefault('color','black')"
   ]
  },
  {
   "cell_type": "markdown",
   "id": "6787e097",
   "metadata": {},
   "source": [
    "# Question 8\n",
    "The module is pprint and the funtions are pprint.pprint() and pprint.pformat(). "
   ]
  },
  {
   "cell_type": "code",
   "execution_count": null,
   "id": "257dd486",
   "metadata": {},
   "outputs": [],
   "source": []
  }
 ],
 "metadata": {
  "kernelspec": {
   "display_name": "Python 3 (ipykernel)",
   "language": "python",
   "name": "python3"
  },
  "language_info": {
   "codemirror_mode": {
    "name": "ipython",
    "version": 3
   },
   "file_extension": ".py",
   "mimetype": "text/x-python",
   "name": "python",
   "nbconvert_exporter": "python",
   "pygments_lexer": "ipython3",
   "version": "3.9.13"
  }
 },
 "nbformat": 4,
 "nbformat_minor": 5
}
