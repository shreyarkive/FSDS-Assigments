{
 "cells": [
  {
   "cell_type": "markdown",
   "id": "604f573d",
   "metadata": {},
   "source": [
    "# Question 1\n",
    "[] denotes an empty list."
   ]
  },
  {
   "cell_type": "code",
   "execution_count": 1,
   "id": "ba54cedc",
   "metadata": {},
   "outputs": [],
   "source": [
    "# Question 2\n",
    "spam=[2, 4, 6, 8, 10]\n",
    "spam[2]='hello'"
   ]
  },
  {
   "cell_type": "code",
   "execution_count": 2,
   "id": "de8fefef",
   "metadata": {},
   "outputs": [
    {
     "data": {
      "text/plain": [
       "'hello'"
      ]
     },
     "execution_count": 2,
     "metadata": {},
     "output_type": "execute_result"
    }
   ],
   "source": [
    "spam[2]"
   ]
  },
  {
   "cell_type": "code",
   "execution_count": 3,
   "id": "f35fdc39",
   "metadata": {},
   "outputs": [
    {
     "name": "stdout",
     "output_type": "stream",
     "text": [
      "d\n"
     ]
    }
   ],
   "source": [
    "spam=['a','b','c','d']\n",
    "#Question 3\n",
    "\n",
    "print(spam[int(int('3' * 2) / 11)])"
   ]
  },
  {
   "cell_type": "code",
   "execution_count": 4,
   "id": "c849d8b4",
   "metadata": {},
   "outputs": [
    {
     "name": "stdout",
     "output_type": "stream",
     "text": [
      "d\n"
     ]
    }
   ],
   "source": [
    "#Question 4\n",
    "print(spam[-1])"
   ]
  },
  {
   "cell_type": "code",
   "execution_count": 5,
   "id": "1be00498",
   "metadata": {},
   "outputs": [
    {
     "name": "stdout",
     "output_type": "stream",
     "text": [
      "['a', 'b']\n"
     ]
    }
   ],
   "source": [
    "#Question 5\n",
    "print(spam[:2])"
   ]
  },
  {
   "cell_type": "code",
   "execution_count": 6,
   "id": "05a697c1",
   "metadata": {},
   "outputs": [
    {
     "data": {
      "text/plain": [
       "1"
      ]
     },
     "execution_count": 6,
     "metadata": {},
     "output_type": "execute_result"
    }
   ],
   "source": [
    "bacon=[3.14, 'cat',11, 'cat', True]\n",
    "#Question 6\n",
    "bacon.index('cat')"
   ]
  },
  {
   "cell_type": "code",
   "execution_count": 7,
   "id": "aeb6ffcc",
   "metadata": {},
   "outputs": [
    {
     "name": "stdout",
     "output_type": "stream",
     "text": [
      "[3.14, 'cat', 11, 'cat', True, 99]\n"
     ]
    }
   ],
   "source": [
    "#Question 7\n",
    "bacon.append(99)\n",
    "print(bacon)"
   ]
  },
  {
   "cell_type": "code",
   "execution_count": 8,
   "id": "450f9edb",
   "metadata": {},
   "outputs": [
    {
     "name": "stdout",
     "output_type": "stream",
     "text": [
      "[3.14, 11, 'cat', True, 99]\n"
     ]
    }
   ],
   "source": [
    "#Question 8\n",
    "bacon.remove('cat')\n",
    "print(bacon) #it only removes the first occurence of 'cat'"
   ]
  },
  {
   "cell_type": "markdown",
   "id": "8444d4d7",
   "metadata": {},
   "source": [
    "# Question 9\n",
    "List concatenation operator is + and list replication operator is *. "
   ]
  },
  {
   "cell_type": "markdown",
   "id": "c0aff6f6",
   "metadata": {},
   "source": [
    "# Question 10\n",
    "append function adds the input only in the end of the list while the insert function accepts two parameters, the position/index to enter an input and the input."
   ]
  },
  {
   "cell_type": "markdown",
   "id": "49832f51",
   "metadata": {},
   "source": [
    "# Question 11\n",
    "1) The remove() method removes the first occurence of the entered parameter.\n",
    "2) The pop() method accepts the index of the value to be deleted and displays value on the output screen.\n",
    "3) The clear() method deletes all the elements of the list and empties the list."
   ]
  },
  {
   "cell_type": "markdown",
   "id": "ceee05bb",
   "metadata": {},
   "source": [
    "# Question 12\n",
    "Lists and strings in python are  both sequences and both have lengths and indices. "
   ]
  },
  {
   "cell_type": "markdown",
   "id": "a3773a48",
   "metadata": {},
   "source": [
    "# Question 13\n",
    "1) Lists are mutable while tuples are immutable.\n",
    "2) Lists consume more memory than tuples.\n",
    "3) We can perform more operations on lists than tuples.\n",
    "4) Lists are enclosed in [] while tuples are enclosed in ().\n"
   ]
  },
  {
   "cell_type": "code",
   "execution_count": 9,
   "id": "b7ce2d1b",
   "metadata": {},
   "outputs": [
    {
     "name": "stdout",
     "output_type": "stream",
     "text": [
      "(42,)\n"
     ]
    }
   ],
   "source": [
    "# Question 14\n",
    "one=(42,)\n",
    "print(one)"
   ]
  },
  {
   "cell_type": "markdown",
   "id": "33580797",
   "metadata": {},
   "source": [
    "# Question 15\n",
    "We can convert a list value to a tuple form using the tuple() function and we can convert a tuple value to a list using the list() function."
   ]
  },
  {
   "cell_type": "markdown",
   "id": "53464479",
   "metadata": {},
   "source": [
    "# Question 16\n",
    "The variables hold references to the list values rather then the list values themselves."
   ]
  },
  {
   "cell_type": "markdown",
   "id": "43a28cef",
   "metadata": {},
   "source": [
    "# Question 17\n",
    "copy.copy() creates a shallow copy of a list while copy.deepcopy() creates a deep copy of a list. "
   ]
  },
  {
   "cell_type": "code",
   "execution_count": null,
   "id": "b7a6ef19",
   "metadata": {},
   "outputs": [],
   "source": []
  }
 ],
 "metadata": {
  "kernelspec": {
   "display_name": "Python 3 (ipykernel)",
   "language": "python",
   "name": "python3"
  },
  "language_info": {
   "codemirror_mode": {
    "name": "ipython",
    "version": 3
   },
   "file_extension": ".py",
   "mimetype": "text/x-python",
   "name": "python",
   "nbconvert_exporter": "python",
   "pygments_lexer": "ipython3",
   "version": "3.9.13"
  }
 },
 "nbformat": 4,
 "nbformat_minor": 5
}
