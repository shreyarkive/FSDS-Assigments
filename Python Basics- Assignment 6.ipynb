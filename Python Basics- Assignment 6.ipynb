{
 "cells": [
  {
   "cell_type": "markdown",
   "id": "5eb80b5d",
   "metadata": {},
   "source": [
    "# Question1\n",
    "Escape characters are characters is string values which are difficult or impossible to type in code."
   ]
  },
  {
   "cell_type": "markdown",
   "id": "437a2aff",
   "metadata": {},
   "source": [
    "# Question2\n",
    "n stands for new line while t stands for tab."
   ]
  },
  {
   "cell_type": "markdown",
   "id": "c2d5ba0e",
   "metadata": {},
   "source": [
    "# Question3\n",
    "The \\\\  character is used to represent backlash character. "
   ]
  },
  {
   "cell_type": "markdown",
   "id": "24e898d2",
   "metadata": {},
   "source": [
    "# Question4\n",
    "The single quotes work for this string as we have enclosed the string in double quotes."
   ]
  },
  {
   "cell_type": "markdown",
   "id": "5cd45eb6",
   "metadata": {},
   "source": [
    "# Question5\n",
    "We can use multiline strings if we do not want to use the n character."
   ]
  },
  {
   "cell_type": "markdown",
   "id": "cebfff6f",
   "metadata": {},
   "source": [
    "# Question6\n",
    "1) 'e'\n",
    "2)'Hello'\n",
    "3)'Hello'\n",
    "4)'lo World'"
   ]
  },
  {
   "cell_type": "markdown",
   "id": "c6ce072a",
   "metadata": {},
   "source": [
    "# Question7\n",
    "1) 'HELLO'\n",
    "2) True\n",
    "3) 'hello'"
   ]
  },
  {
   "cell_type": "markdown",
   "id": "89937d3c",
   "metadata": {},
   "source": [
    "# Question8\n",
    "1)['Remember','remember','the','fifth','of','July']\n",
    "2)'There-can-only-one'"
   ]
  },
  {
   "cell_type": "markdown",
   "id": "93518f89",
   "metadata": {},
   "source": [
    "# Question9\n",
    "The rjust(),ljust() and center() methods are used for right-justifying, left-justifying and centering a string. "
   ]
  },
  {
   "cell_type": "markdown",
   "id": "a39f110c",
   "metadata": {},
   "source": [
    "# Question10\n",
    "The lstrip() and rstrip() methods remove while spaces from the start or end of the string respectively. "
   ]
  },
  {
   "cell_type": "code",
   "execution_count": null,
   "id": "bc329e38",
   "metadata": {},
   "outputs": [],
   "source": []
  }
 ],
 "metadata": {
  "kernelspec": {
   "display_name": "Python 3 (ipykernel)",
   "language": "python",
   "name": "python3"
  },
  "language_info": {
   "codemirror_mode": {
    "name": "ipython",
    "version": 3
   },
   "file_extension": ".py",
   "mimetype": "text/x-python",
   "name": "python",
   "nbconvert_exporter": "python",
   "pygments_lexer": "ipython3",
   "version": "3.9.13"
  }
 },
 "nbformat": 4,
 "nbformat_minor": 5
}
