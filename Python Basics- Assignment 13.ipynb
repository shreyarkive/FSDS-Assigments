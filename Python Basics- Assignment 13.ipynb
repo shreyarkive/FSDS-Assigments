{
 "cells": [
  {
   "cell_type": "markdown",
   "id": "71b71877",
   "metadata": {},
   "source": [
    "# Question1\n",
    "Excel can perform VBA coding, functions, formulas and create summaries more easily than CSV. In Excel, reading large data sets is much easier for the user end to read, comprehend and understand as compared to CSV. Excel also provides user an user option that links external data from other sources and the user can also make custom additions. "
   ]
  },
  {
   "cell_type": "markdown",
   "id": "9f7de0c4",
   "metadata": {},
   "source": [
    "# Question2\n",
    "We pass 'r' to csv.reader() to create a reader object and we pass 'w' to csv.writer() to create a writer object."
   ]
  },
  {
   "cell_type": "markdown",
   "id": "7b074178",
   "metadata": {},
   "source": [
    "# Question3\n",
    "To open a file to read, we open the file in the 'r' mode which is the read mode. To open a file to write on it, we open the file in 'w' mode which is the write mode."
   ]
  },
  {
   "cell_type": "markdown",
   "id": "3d9b9a31",
   "metadata": {},
   "source": [
    "# Question4\n",
    "writerows() function takes a list argument and writes it onto a CSV file."
   ]
  },
  {
   "cell_type": "markdown",
   "id": "fa530057",
   "metadata": {},
   "source": [
    "# Question5\n",
    "Delimiter specifies the character used to separate each field. A line terminator is a string used to terminate the line written by the writer object."
   ]
  },
  {
   "cell_type": "markdown",
   "id": "775282b0",
   "metadata": {},
   "source": [
    "# Question6\n",
    "json.loads() takes a string of JSON data and returns a Python data structure."
   ]
  },
  {
   "cell_type": "markdown",
   "id": "cef4b8bb",
   "metadata": {},
   "source": [
    "# Question7\n",
    "json.dumps() takes a Python data structure and returns a string of JSON data."
   ]
  },
  {
   "cell_type": "code",
   "execution_count": null,
   "id": "705a0bc1",
   "metadata": {},
   "outputs": [],
   "source": []
  }
 ],
 "metadata": {
  "kernelspec": {
   "display_name": "Python 3 (ipykernel)",
   "language": "python",
   "name": "python3"
  },
  "language_info": {
   "codemirror_mode": {
    "name": "ipython",
    "version": 3
   },
   "file_extension": ".py",
   "mimetype": "text/x-python",
   "name": "python",
   "nbconvert_exporter": "python",
   "pygments_lexer": "ipython3",
   "version": "3.9.13"
  }
 },
 "nbformat": 4,
 "nbformat_minor": 5
}
