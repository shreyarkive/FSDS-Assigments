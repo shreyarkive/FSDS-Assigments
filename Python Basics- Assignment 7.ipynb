{
 "cells": [
  {
   "cell_type": "markdown",
   "id": "47368a58",
   "metadata": {},
   "source": [
    "# Question1\n",
    "The feature that that generates the regex objects is re.compile()."
   ]
  },
  {
   "cell_type": "markdown",
   "id": "3466fb47",
   "metadata": {},
   "source": [
    "# Question 2\n",
    "Raw Strings often appear in regex objects so that the backlash does not escape."
   ]
  },
  {
   "cell_type": "markdown",
   "id": "b7611490",
   "metadata": {},
   "source": [
    "# Question3\n",
    "The search() function returns Match objects."
   ]
  },
  {
   "cell_type": "markdown",
   "id": "fc5c2513",
   "metadata": {},
   "source": [
    "# Question4\n",
    "From a match item, we get actual strings that match the pattern by using the group() function."
   ]
  },
  {
   "cell_type": "markdown",
   "id": "27633e8f",
   "metadata": {},
   "source": [
    "# Question5\n",
    "Group 0 covers the entire match.\n",
    "Group 1 covers (\\d\\d\\d)\n",
    "Group 2 covers (\\d\\d\\d-\\d\\d\\d\\d)"
   ]
  },
  {
   "cell_type": "markdown",
   "id": "c85e7bee",
   "metadata": {},
   "source": [
    "# Question6\n",
    "We can tell a regex to fit real parantheses and periods by using \\. and \\"
   ]
  },
  {
   "cell_type": "markdown",
   "id": "b77a9e52",
   "metadata": {},
   "source": [
    "# Question7\n",
    "The findall() method returns a string list when a regex has no groups while the findall() method returns a list tuple string if a regex has groups. "
   ]
  },
  {
   "cell_type": "markdown",
   "id": "4d501d6d",
   "metadata": {},
   "source": [
    "# Question8\n",
    "| means either or between two groups."
   ]
  },
  {
   "cell_type": "code",
   "execution_count": null,
   "id": "c59e7bc8",
   "metadata": {},
   "outputs": [],
   "source": [
    "# Question 10\n",
    "#+ matches one or more while * natches zero or more."
   ]
  },
  {
   "cell_type": "markdown",
   "id": "5af03e6f",
   "metadata": {},
   "source": [
    "# Question 11\n",
    "While {4} matches 3 instants of the preceeding group, {4,5} includes matches between 4 and 5."
   ]
  },
  {
   "cell_type": "markdown",
   "id": "fa335eb9",
   "metadata": {},
   "source": [
    "# Question12\n",
    "\\d- single digit character\n",
    "\\w- word character\n",
    "\\s-space character"
   ]
  },
  {
   "cell_type": "markdown",
   "id": "93f53881",
   "metadata": {},
   "source": [
    "# Question 13\n",
    "These characters match a single character to characters with is not a single digit, word or space character respectively. "
   ]
  },
  {
   "cell_type": "markdown",
   "id": "18f964f3",
   "metadata": {},
   "source": [
    "# Question14\n",
    ".* executes a greedy match while .*? executes a non greedy match."
   ]
  },
  {
   "cell_type": "markdown",
   "id": "87b68067",
   "metadata": {},
   "source": [
    "# Question15\n",
    "[0-9a-z] or [a-z0-9]"
   ]
  },
  {
   "cell_type": "markdown",
   "id": "860ecfa2",
   "metadata": {},
   "source": [
    "# Question16\n",
    "Passing re.I or re.IGNORECASE as the second argument to re.compile will make a normal expression in regax case insensitive.\n"
   ]
  },
  {
   "cell_type": "markdown",
   "id": "f4a2aabc",
   "metadata": {},
   "source": [
    "# Question17\n",
    ". character normally matches any character except for the newline character. If re.DOTALL is passed as a second argument to re.compile(), then the . will match newline characters."
   ]
  },
  {
   "cell_type": "markdown",
   "id": "4f7a93a6",
   "metadata": {},
   "source": [
    "# Question 18\n",
    "'X drummers,X pipers,five rings,X hens'"
   ]
  },
  {
   "cell_type": "markdown",
   "id": "cf3b57fc",
   "metadata": {},
   "source": [
    "# Question 19\n",
    "It allows to us to add white spaces and comments to the string passed to re.compile(). "
   ]
  },
  {
   "cell_type": "markdown",
   "id": "42f1806d",
   "metadata": {},
   "source": [
    "# Question20\n",
    "e.compile(r'^\\d{1,3}(,{3})*$')"
   ]
  },
  {
   "cell_type": "markdown",
   "id": "2da476ea",
   "metadata": {},
   "source": [
    "# Question 21\n",
    "re.compile(r'[A-Z][a-z]*\\sWatanabe')"
   ]
  },
  {
   "cell_type": "markdown",
   "id": "579b3c2b",
   "metadata": {},
   "source": [
    "# Question 22\n",
    "re.compile(r'(Alice|Bob|Carol)\\s(eats|pets|throws)\\ s(apples|cats|baseballs)\\.', re.IGNORECASE)\n"
   ]
  },
  {
   "cell_type": "code",
   "execution_count": null,
   "id": "b6f8ec8c",
   "metadata": {},
   "outputs": [],
   "source": []
  }
 ],
 "metadata": {
  "kernelspec": {
   "display_name": "Python 3 (ipykernel)",
   "language": "python",
   "name": "python3"
  },
  "language_info": {
   "codemirror_mode": {
    "name": "ipython",
    "version": 3
   },
   "file_extension": ".py",
   "mimetype": "text/x-python",
   "name": "python",
   "nbconvert_exporter": "python",
   "pygments_lexer": "ipython3",
   "version": "3.9.13"
  }
 },
 "nbformat": 4,
 "nbformat_minor": 5
}
