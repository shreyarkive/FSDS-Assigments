{
 "cells": [
  {
   "cell_type": "markdown",
   "id": "d7e0a09f",
   "metadata": {},
   "source": [
    "# Question 1\n",
    "A relative path is used to specify the location of a directory relative to another directory. "
   ]
  },
  {
   "cell_type": "markdown",
   "id": "ba33075f",
   "metadata": {},
   "source": [
    "# Question 2\n",
    "An absolute path is the entire path to the directory needed to be accessed. The absolute path begins from the home directory of the computer and ends with the directory of the file to be accessed. "
   ]
  },
  {
   "cell_type": "markdown",
   "id": "8ae63d78",
   "metadata": {},
   "source": [
    "# Question 3\n",
    "os.chdir() method changes the current work directory to the a specified path which is entered as a single argument. os.getcwd() method helps us know what the current working directory is."
   ]
  },
  {
   "cell_type": "markdown",
   "id": "faa49d67",
   "metadata": {},
   "source": [
    "# Question 4\n",
    ". signifies the current directory while .. signifies the parent directory."
   ]
  },
  {
   "cell_type": "markdown",
   "id": "5ae98927",
   "metadata": {},
   "source": [
    "# Question 5\n",
    "C:\\bacon\\eggs is the dir name while spam.txt is the base name. "
   ]
  },
  {
   "cell_type": "markdown",
   "id": "1f9961ec",
   "metadata": {},
   "source": [
    "# Question 6\n",
    "'r' mode for reading the file, 'w' mode for writing onto the file and 'a' for appending onto the file."
   ]
  },
  {
   "cell_type": "markdown",
   "id": "264861d4",
   "metadata": {},
   "source": [
    "# Question 7\n",
    "An existing file opened in write mode erases the already written content and overwrites onto the the file. "
   ]
  },
  {
   "cell_type": "markdown",
   "id": "61ceca95",
   "metadata": {},
   "source": [
    "# Question 8\n",
    "The read() method returns all the contents of the file as a single string value while readlines() method returns a list of each line of the file as strings. "
   ]
  },
  {
   "cell_type": "markdown",
   "id": "86e9bb35",
   "metadata": {},
   "source": [
    "# Question 9\n",
    " A shelf value resembles a dictionary."
   ]
  },
  {
   "cell_type": "code",
   "execution_count": null,
   "id": "bd240619",
   "metadata": {},
   "outputs": [],
   "source": []
  }
 ],
 "metadata": {
  "kernelspec": {
   "display_name": "Python 3 (ipykernel)",
   "language": "python",
   "name": "python3"
  },
  "language_info": {
   "codemirror_mode": {
    "name": "ipython",
    "version": 3
   },
   "file_extension": ".py",
   "mimetype": "text/x-python",
   "name": "python",
   "nbconvert_exporter": "python",
   "pygments_lexer": "ipython3",
   "version": "3.9.13"
  }
 },
 "nbformat": 4,
 "nbformat_minor": 5
}
