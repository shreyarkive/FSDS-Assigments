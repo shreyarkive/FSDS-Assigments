{
 "cells": [
  {
   "cell_type": "markdown",
   "id": "dd4d79f7",
   "metadata": {},
   "source": [
    "# Question1\n",
    "assert(spam>0,'Spam variable is negative')"
   ]
  },
  {
   "cell_type": "markdown",
   "id": "0de6c14e",
   "metadata": {},
   "source": [
    "# Question2\n",
    "assert(eggs.lower()!= bacon.lower(),'Eggs and bacon variables are same')\n",
    "\n",
    "OR\n",
    "\n",
    "assert(eggs.upper()!= bacon.upper(),'Eggs and bacon variables are same')"
   ]
  },
  {
   "cell_type": "markdown",
   "id": "9047a2b4",
   "metadata": {},
   "source": [
    "# Question3\n",
    "assert(False,'Assertion is always triggered')"
   ]
  },
  {
   "cell_type": "markdown",
   "id": "4b744011",
   "metadata": {},
   "source": [
    "# Question4\n",
    "import logging\n",
    "\n",
    "logging.basic.Config(level=logging.DEBUG, format-'%(asctime)s- %(levelname)s -%(message)s)')"
   ]
  },
  {
   "cell_type": "markdown",
   "id": "ab4e9191",
   "metadata": {},
   "source": [
    "# Question5\n",
    "import logging\n",
    "\n",
    "logging.basic.Config(filename='program.txt',level=logging.DEBUG, format-'%(asctime)s- %(levelname)s -%(message)s)')"
   ]
  },
  {
   "cell_type": "markdown",
   "id": "8b4dfc84",
   "metadata": {},
   "source": [
    "# Question6\n",
    "DEBUG,INFO,WARNING,ERROR and CRITICAL."
   ]
  },
  {
   "cell_type": "markdown",
   "id": "fd32ad58",
   "metadata": {},
   "source": [
    "# Question7\n",
    "logging.disable(logging.CRITICAL)"
   ]
  },
  {
   "cell_type": "markdown",
   "id": "adc56aba",
   "metadata": {},
   "source": [
    "# Question8\n",
    "We can disable logging messages without removing the logging function calls. We can selectively disable lower-level logging messages. We can create logging messages and logging messages create a timestamp."
   ]
  },
  {
   "cell_type": "markdown",
   "id": "337e57e6",
   "metadata": {},
   "source": [
    "# Question9\n",
    "Step In moves the debugger to a function call.\n",
    "\n",
    "Step over executes the function call quickly without stepping into it.\n",
    "\n",
    "Step out executes the rest of the code quickly till it steps out of the function it currently is in.\n"
   ]
  },
  {
   "cell_type": "markdown",
   "id": "63584a2c",
   "metadata": {},
   "source": [
    "# Question10\n",
    "After you click Continue, the debugger stops at a line with breakpoint."
   ]
  },
  {
   "cell_type": "markdown",
   "id": "71ae14be",
   "metadata": {},
   "source": [
    "# Question11\n",
    "A breakpoint is a setting on a line of code that pauses a debugger when the program execution reaches the line."
   ]
  },
  {
   "cell_type": "code",
   "execution_count": null,
   "id": "2ecab230",
   "metadata": {},
   "outputs": [],
   "source": []
  }
 ],
 "metadata": {
  "kernelspec": {
   "display_name": "Python 3 (ipykernel)",
   "language": "python",
   "name": "python3"
  },
  "language_info": {
   "codemirror_mode": {
    "name": "ipython",
    "version": 3
   },
   "file_extension": ".py",
   "mimetype": "text/x-python",
   "name": "python",
   "nbconvert_exporter": "python",
   "pygments_lexer": "ipython3",
   "version": "3.9.13"
  }
 },
 "nbformat": 4,
 "nbformat_minor": 5
}
