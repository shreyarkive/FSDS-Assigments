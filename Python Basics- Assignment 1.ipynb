{
 "cells": [
  {
   "cell_type": "code",
   "execution_count": null,
   "id": "2813b0ea",
   "metadata": {},
   "outputs": [],
   "source": [
    "'''Question 1\n",
    "\n",
    "* is an expression. \n",
    "'hello' is a value(string). \n",
    "-87.8 is a value(integer).\n",
    "- is an expression. \n",
    "/ is an expression.\n",
    "+ is an expression.\n",
    "6 is a value(integer).'''"
   ]
  },
  {
   "cell_type": "code",
   "execution_count": null,
   "id": "f4799a11",
   "metadata": {},
   "outputs": [],
   "source": [
    "Question 2\n",
    "\n",
    "'''A variable is a symbol that holds or stores data while a string is a data type that holds charachters in double quotes. A string can be stored in a variable but the vice-versa is not true.'''"
   ]
  },
  {
   "cell_type": "code",
   "execution_count": null,
   "id": "7d915841",
   "metadata": {},
   "outputs": [],
   "source": [
    "'''Question 3\n",
    "\n",
    "There are many data types in Python. Three of them are:\n",
    "\n",
    "1. Numeric data type(int): This data type includes integers. It further includes types such as complex numbers and float(decimal). \n",
    "\n",
    "2. String data type: This data type holds a sequence of characters enclosed in double quotes. (\" \" or ' ')\n",
    "\n",
    "3. Boolean data type: This data type includes True and False.'''"
   ]
  },
  {
   "cell_type": "code",
   "execution_count": null,
   "id": "da12fc91",
   "metadata": {},
   "outputs": [],
   "source": [
    "'''Question 4\n",
    "\n",
    "An expression involves operators and operands. All expressions produce an output in the form of a value or a result.'''"
   ]
  },
  {
   "cell_type": "code",
   "execution_count": null,
   "id": "ca44a4e1",
   "metadata": {},
   "outputs": [],
   "source": [
    "'''Question 5\n",
    "\n",
    "An expression involves operations on operands using operators. Expressions produce an output in the form of a value or a result. \n",
    "\n",
    "A statement is just executed in a program but does not produce any output. Statements are used for displaying values or assigning data to variables.'''"
   ]
  },
  {
   "cell_type": "code",
   "execution_count": 5,
   "id": "37e557e4",
   "metadata": {},
   "outputs": [
    {
     "name": "stdout",
     "output_type": "stream",
     "text": [
      "23\n",
      "Current value of bacon is: 22\n"
     ]
    }
   ],
   "source": [
    "#Question 6\n",
    "bacon=22\n",
    "print(bacon+1)\n",
    "print(\"Current value of bacon is:\",bacon)\n",
    "#the following code does not change the assigned value of bacon(22) to 23 as we do not use the = operator. "
   ]
  },
  {
   "cell_type": "code",
   "execution_count": null,
   "id": "90173bae",
   "metadata": {},
   "outputs": [],
   "source": [
    "'''Question 7\n",
    "\n",
    "The values of both the terms will be 'spamspamspam'''"
   ]
  },
  {
   "cell_type": "code",
   "execution_count": null,
   "id": "e2d1885d",
   "metadata": {},
   "outputs": [],
   "source": [
    "'''Question 8\n",
    "\n",
    "Eggs is a valid variable name while 100 is not a variable name because as per conventions, a variable name must always begin with an underscore or an alphabetic letter. '''"
   ]
  },
  {
   "cell_type": "code",
   "execution_count": 8,
   "id": "f5d74565",
   "metadata": {},
   "outputs": [
    {
     "data": {
      "text/plain": [
       "''"
      ]
     },
     "execution_count": 8,
     "metadata": {},
     "output_type": "execute_result"
    }
   ],
   "source": [
    "#Question 9\n",
    "#The 3 built in functions used to get integer,float and string form of a value are:\n",
    "int() #to convert value to integer. \n",
    "float() #to convert value to float(decimal).\n",
    "str() #to convert value to string."
   ]
  },
  {
   "cell_type": "code",
   "execution_count": null,
   "id": "63d16402",
   "metadata": {},
   "outputs": [],
   "source": [
    "'''Question 10\n",
    "\n",
    "The expression 'I have eaten'+ 99 + 'burritos' returns an error as two different data types(string and integer) are trying to be added or concatenated. We can fix it in the following two ways:\n",
    "\n",
    "1. 'I have eaten'+ str(99) + 'burritos'\n",
    "2.'I have eaten'+ '99' + 'burritos' '''"
   ]
  },
  {
   "cell_type": "code",
   "execution_count": null,
   "id": "0dbe764e",
   "metadata": {},
   "outputs": [],
   "source": []
  }
 ],
 "metadata": {
  "kernelspec": {
   "display_name": "Python 3 (ipykernel)",
   "language": "python",
   "name": "python3"
  },
  "language_info": {
   "codemirror_mode": {
    "name": "ipython",
    "version": 3
   },
   "file_extension": ".py",
   "mimetype": "text/x-python",
   "name": "python",
   "nbconvert_exporter": "python",
   "pygments_lexer": "ipython3",
   "version": "3.9.13"
  }
 },
 "nbformat": 4,
 "nbformat_minor": 5
}
