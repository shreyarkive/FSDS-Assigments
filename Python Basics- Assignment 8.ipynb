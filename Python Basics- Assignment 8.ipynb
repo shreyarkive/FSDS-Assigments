{
 "cells": [
  {
   "cell_type": "markdown",
   "id": "fdce0d06",
   "metadata": {},
   "source": [
    "# Question1\n",
    "No it is not included and we must install it separately using pip."
   ]
  },
  {
   "cell_type": "markdown",
   "id": "ffaa48bb",
   "metadata": {},
   "source": [
    "# Question2\n",
    "So that we can use a shorter name while calling the functions of the module."
   ]
  },
  {
   "cell_type": "markdown",
   "id": "55062594",
   "metadata": {},
   "source": [
    "# Question3\n",
    "inputInt expects the input to be of integer data type while inputFloat expects the data to be of float data type."
   ]
  },
  {
   "cell_type": "markdown",
   "id": "73089a8a",
   "metadata": {},
   "source": [
    "# Question4\n",
    "pyip.inputint(min=0, max=99)"
   ]
  },
  {
   "cell_type": "markdown",
   "id": "2356df14",
   "metadata": {},
   "source": [
    "# Question5\n",
    "A list of regex strings that are explicitly allowed or denied."
   ]
  },
  {
   "cell_type": "markdown",
   "id": "c86d8619",
   "metadata": {},
   "source": [
    "# Question6\n",
    "It gives a RetryLimitException."
   ]
  },
  {
   "cell_type": "markdown",
   "id": "994d911f",
   "metadata": {},
   "source": [
    "# Question7\n",
    "The function returns 'hello'."
   ]
  },
  {
   "cell_type": "code",
   "execution_count": null,
   "id": "e52d7180",
   "metadata": {},
   "outputs": [],
   "source": []
  }
 ],
 "metadata": {
  "kernelspec": {
   "display_name": "Python 3 (ipykernel)",
   "language": "python",
   "name": "python3"
  },
  "language_info": {
   "codemirror_mode": {
    "name": "ipython",
    "version": 3
   },
   "file_extension": ".py",
   "mimetype": "text/x-python",
   "name": "python",
   "nbconvert_exporter": "python",
   "pygments_lexer": "ipython3",
   "version": "3.9.13"
  }
 },
 "nbformat": 4,
 "nbformat_minor": 5
}
