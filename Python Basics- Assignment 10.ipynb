{
 "cells": [
  {
   "cell_type": "markdown",
   "id": "ed44e3aa",
   "metadata": {},
   "source": [
    "# Question1\n",
    "shutil.copy()copies just one file while shutil.copytree() copies an entire folder with its contents."
   ]
  },
  {
   "cell_type": "markdown",
   "id": "7abca440",
   "metadata": {},
   "source": [
    "# Question2\n",
    "the function shutil.move() is used to rename files."
   ]
  },
  {
   "cell_type": "markdown",
   "id": "3f63c3e8",
   "metadata": {},
   "source": [
    "# Question3\n",
    "send2trash function move a file or folder to the recycle bin while shutil function permanently deletes files and folders."
   ]
  },
  {
   "cell_type": "markdown",
   "id": "d27a0a01",
   "metadata": {},
   "source": [
    "# Question4\n",
    "The zipfile.ZipFile() function is equivalent to the open() function. \n"
   ]
  },
  {
   "cell_type": "code",
   "execution_count": null,
   "id": "81df293d",
   "metadata": {},
   "outputs": [],
   "source": [
    "#Question5\n",
    "import os, shutil\n",
    "spath = input('Enter the absolute path of source folder:')\n",
    "ftype = input('Enter the type of file to copy :').lower()\n",
    "dpath = input('Enter the absolute path of the destination folder:')\n",
    "for foldername, subfolders, filenames in os.walk(sourcePath):\n",
    "    for filename in filenames:\n",
    "        if filename.lower().endswith(fileExtType):\n",
    "            print(foldername ,'\\\\', filename)\n",
    "            copypath = os.path.join(foldername, filename)\n",
    "        else:\n",
    "            continue"
   ]
  }
 ],
 "metadata": {
  "kernelspec": {
   "display_name": "Python 3 (ipykernel)",
   "language": "python",
   "name": "python3"
  },
  "language_info": {
   "codemirror_mode": {
    "name": "ipython",
    "version": 3
   },
   "file_extension": ".py",
   "mimetype": "text/x-python",
   "name": "python",
   "nbconvert_exporter": "python",
   "pygments_lexer": "ipython3",
   "version": "3.9.13"
  }
 },
 "nbformat": 4,
 "nbformat_minor": 5
}
